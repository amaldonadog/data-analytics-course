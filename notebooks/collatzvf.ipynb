{
 "cells": [
  {
   "cell_type": "code",
   "execution_count": 5,
   "metadata": {},
   "outputs": [],
   "source": [
    "def collatz(a):\n",
    "    for i in range(1,a+1,):\n",
    "        sequence = [i]\n",
    "        k = i\n",
    "        while k > 1:\n",
    "            if k%2 == 0:\n",
    "                k = k/2\n",
    "                sequence.append(k)\n",
    "            elif k%2 == 1:\n",
    "                k = (3*k) + 1\n",
    "                sequence.append(k)\n",
    "    \n",
    "    return sequence, len(sequence)"
   ]
  },
  {
   "cell_type": "code",
   "execution_count": 6,
   "metadata": {},
   "outputs": [
    {
     "data": {
      "text/plain": [
       "([9,\n",
       "  28,\n",
       "  14.0,\n",
       "  7.0,\n",
       "  22.0,\n",
       "  11.0,\n",
       "  34.0,\n",
       "  17.0,\n",
       "  52.0,\n",
       "  26.0,\n",
       "  13.0,\n",
       "  40.0,\n",
       "  20.0,\n",
       "  10.0,\n",
       "  5.0,\n",
       "  16.0,\n",
       "  8.0,\n",
       "  4.0,\n",
       "  2.0,\n",
       "  1.0],\n",
       " 20)"
      ]
     },
     "execution_count": 6,
     "metadata": {},
     "output_type": "execute_result"
    }
   ],
   "source": [
    "collatz(9)"
   ]
  }
 ],
 "metadata": {
  "kernelspec": {
   "display_name": "PrograParaDatos",
   "language": "python",
   "name": "python3"
  },
  "language_info": {
   "codemirror_mode": {
    "name": "ipython",
    "version": 3
   },
   "file_extension": ".py",
   "mimetype": "text/x-python",
   "name": "python",
   "nbconvert_exporter": "python",
   "pygments_lexer": "ipython3",
   "version": "3.10.13"
  }
 },
 "nbformat": 4,
 "nbformat_minor": 2
}
